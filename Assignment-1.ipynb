{
 "cells": [
  {
   "cell_type": "markdown",
   "id": "dd16f5a3-5fe9-4edd-bffb-8c5df528a069",
   "metadata": {},
   "source": [
    "Q1. Create one variable containing following type of data:\n",
    "(i) string\n",
    "(ii) list\n",
    "(iii) float\n",
    "(iv) tuple"
   ]
  },
  {
   "cell_type": "code",
   "execution_count": 13,
   "id": "8e64b328-e41f-4718-8030-e3fa8056ab05",
   "metadata": {},
   "outputs": [
    {
     "name": "stdout",
     "output_type": "stream",
     "text": [
      "Raj\n",
      "<class 'str'>\n",
      "[1, 2, 3, 'Raj', ' Ramesh']\n",
      "<class 'list'>\n",
      "1.5\n",
      "<class 'float'>\n",
      "(1, 2, 3, 'apples')\n",
      "<class 'tuple'>\n"
     ]
    }
   ],
   "source": [
    "#Answer 1\n",
    "# (i)String\n",
    "\n",
    "Test = \"Raj\"\n",
    "print(Test)\n",
    "print(type(Test))\n",
    "\n",
    "# (ii) list\n",
    "\n",
    "list1 = [1,2,3,\"Raj\",\" Ramesh\"]\n",
    "print(list1)\n",
    "print(type(list1))\n",
    "\n",
    "# (iii) Float\n",
    "\n",
    "float = 1.5\n",
    "print(float)\n",
    "print(type(float))\n",
    "\n",
    "# (iv) Tuple\n",
    "\n",
    "my_tuple = (1, 2, 3, \"apples\")\n",
    "print(my_tuple)\n",
    "print(type(my_tuple))"
   ]
  },
  {
   "cell_type": "markdown",
   "id": "da6ab208-b4f4-4e8a-b1ba-ec51f7bcb9c0",
   "metadata": {},
   "source": [
    "Q2. Given are some following variables containing data:\n",
    "(i) var1 = ‘ ‘\n",
    "(ii) var2 = ‘[ DS , ML , Python]’\n",
    "(iii) var3 = [ ‘DS’ , ’ML’ , ‘Python’ ]\n",
    "(iv) var4 = 1.\n",
    "What will be the data type of the above given variable."
   ]
  },
  {
   "cell_type": "code",
   "execution_count": 19,
   "id": "24181ccc-fee9-47ef-8509-88d4cf0db5c8",
   "metadata": {},
   "outputs": [
    {
     "name": "stdout",
     "output_type": "stream",
     "text": [
      "<class 'str'>\n",
      "<class 'str'>\n",
      "<class 'list'>\n",
      "<class 'float'>\n"
     ]
    }
   ],
   "source": [
    "# Answer 2\n",
    "\n",
    "# (i)\n",
    "var1 = ' '\n",
    "print(type(var1)) # String\n",
    "\n",
    "#(ii)\n",
    "\n",
    "var2 = '[ DS , ML , Python]' \n",
    "print(type(var2))   # String\n",
    "\n",
    "#(iii)\n",
    "\n",
    "var3 = [ 'DS' , 'ML' , 'Python' ]\n",
    "print(type(var3)) # List\n",
    "\n",
    "# (iv)\n",
    "var4 = 1.\n",
    "print(type(var4)) # Float\n",
    "\n",
    "\n"
   ]
  },
  {
   "cell_type": "markdown",
   "id": "3423026b-7640-44e7-b9e7-9d55d8c21867",
   "metadata": {},
   "source": [
    "Q3. Explain the use of the following operators using an example:\n",
    "# ANS 3\n",
    "(i) / (Division)   = This operator performs division and returns the result as a float, even if the division is exact.\n",
    "(ii) % (Modulus)   = This operator returns the remainder when dividing two numbers.\n",
    "(iii) // (Floor Division) = This operator performs integer division and returns the quotient rounded down to the nearest whole number.\n",
    "(iv) ** (Power Operator)  = This operator is used to perform exponentiation, raising the left operand to the power of the right operand."
   ]
  },
  {
   "cell_type": "markdown",
   "id": "84414f3c-74e5-40f1-b20b-5b2937a44d44",
   "metadata": {},
   "source": [
    "Q4. Create a list of length 10 of your choice containing multiple types of data. Using for loop print the\n",
    "element and its data type."
   ]
  },
  {
   "cell_type": "code",
   "execution_count": 1,
   "id": "73db12c9-0079-42b5-a62f-77e145c7c024",
   "metadata": {},
   "outputs": [
    {
     "name": "stdout",
     "output_type": "stream",
     "text": [
      "42, Data type: <class 'int'>\n",
      "7.52, Data type: <class 'float'>\n",
      "Hello, Data type: <class 'str'>\n",
      "True, Data type: <class 'bool'>\n",
      "[1, 2, 3], Data type: <class 'list'>\n",
      "(1, 2), Data type: <class 'tuple'>\n",
      "{'key': 'value'}, Data type: <class 'dict'>\n",
      "None, Data type: <class 'NoneType'>\n"
     ]
    }
   ],
   "source": [
    "#Answer 4\n",
    "\n",
    "my_list = [42, 7.52, \"Hello\", True, [1, 2, 3], (1,2), {'key': 'value'}, None]\n",
    "\n",
    "for i in my_list:\n",
    "    print(f\"{i}, Data type: {type(i)}\")"
   ]
  },
  {
   "cell_type": "markdown",
   "id": "bc08e230-7681-42ea-9a5e-bd38e3d22e1d",
   "metadata": {},
   "source": [
    "Q5. Using a while loop, verify if the number A is purely divisible by number B and if so then how many\n",
    "times it can be divisible."
   ]
  },
  {
   "cell_type": "code",
   "execution_count": 9,
   "id": "957360a0-123c-4124-b11f-1cde16caa131",
   "metadata": {},
   "outputs": [
    {
     "name": "stdin",
     "output_type": "stream",
     "text": [
      "Enter value of number A : 12\n",
      "Enter value of number B : 2\n"
     ]
    },
    {
     "name": "stdout",
     "output_type": "stream",
     "text": [
      "A can be divide by 2 times.\n"
     ]
    }
   ],
   "source": [
    "# Answer 5\n",
    "\n",
    "A = int(input(\"Enter value of number A :\"))\n",
    "B = int(input(\"Enter value of number B :\"))\n",
    "Count = 0\n",
    "\n",
    "if B == 0:\n",
    "    print(\"division not possible\")\n",
    "else:\n",
    "    while A % B == 0:\n",
    "        A = A / B\n",
    "        Count = Count + 1\n",
    "        \n",
    "if Count < 1:\n",
    "    print(\"A is not divided by B\")\n",
    "else:\n",
    "    print(\"A can be divide by\",Count,\"times.\")"
   ]
  },
  {
   "cell_type": "markdown",
   "id": "7fea7e2e-375e-4a50-b8ae-02a4e5408d9c",
   "metadata": {},
   "source": [
    "Q6. Create a list containing 25 int type data. Using for loop and if-else condition print if the element is\n",
    "divisible by 3 or not."
   ]
  },
  {
   "cell_type": "code",
   "execution_count": 11,
   "id": "1e31fb8c-90a0-4c53-b7b4-871cb8cfaebb",
   "metadata": {
    "scrolled": true
   },
   "outputs": [
    {
     "name": "stdout",
     "output_type": "stream",
     "text": [
      "1 is not divisible by 3\n",
      "2 is not divisible by 3\n",
      "3 is divisible by 3\n",
      "4 is not divisible by 3\n",
      "5 is not divisible by 3\n",
      "6 is divisible by 3\n",
      "7 is not divisible by 3\n",
      "8 is not divisible by 3\n",
      "9 is divisible by 3\n",
      "10 is not divisible by 3\n",
      "11 is not divisible by 3\n",
      "12 is divisible by 3\n",
      "13 is not divisible by 3\n",
      "14 is not divisible by 3\n",
      "15 is divisible by 3\n",
      "16 is not divisible by 3\n",
      "17 is not divisible by 3\n",
      "18 is divisible by 3\n",
      "19 is not divisible by 3\n",
      "20 is not divisible by 3\n",
      "21 is divisible by 3\n",
      "22 is not divisible by 3\n",
      "23 is not divisible by 3\n",
      "24 is divisible by 3\n",
      "25 is not divisible by 3\n"
     ]
    }
   ],
   "source": [
    "# Answer 6\n",
    "\n",
    "my_list3 = [1,2,3,4,5,6,7,8,9,10,11,12,13,14,15,16,17,18,19,20,21,22,23,24,25]\n",
    "\n",
    "for i in my_list3:\n",
    "    if i % 3 == 0:\n",
    "        print(f\"{i} is divisible by 3\")\n",
    "    else:\n",
    "        print(f\"{i} is not divisible by 3\")\n",
    "    \n"
   ]
  },
  {
   "cell_type": "markdown",
   "id": "5457d340-d1a9-4b87-9b12-87007f1221b6",
   "metadata": {},
   "source": [
    "Q7. What do you understand about mutable and immutable data types? Give examples for both showing\n",
    "this property."
   ]
  },
  {
   "cell_type": "markdown",
   "id": "95bc05c3-6173-4873-8a8d-ca8f04bafdee",
   "metadata": {},
   "source": [
    "# Answer 7\n",
    "\n",
    "Mutable Data Type\n",
    "\n",
    "Mutable data types are those that allow modification of their contents after they are created. \n",
    "You can change, add, or remove elements.\n",
    "\n",
    "List: You can modify, add, or remove elements.\n",
    "Dictionary: You can modify, add, or remove key-value pairs.\n",
    "Set: You can add or remove elements.\n",
    "\n",
    "Immutable Data Types\n",
    "\n",
    "Immutable data types are those whose contents cannot be changed once they are created. \n",
    "Any attempt to modify the content of an immutable data type results in the creation of a new object.\n",
    "\n",
    "String: You cannot change the individual characters of a string.\n",
    "Tuple: You cannot change the elements of a tuple.\n",
    "Frozenset: Similar to sets but immutable.\n",
    "Integer: You cannot change the value of an integer once it's assigned.\n"
   ]
  }
 ],
 "metadata": {
  "kernelspec": {
   "display_name": "Python 3 (ipykernel)",
   "language": "python",
   "name": "python3"
  },
  "language_info": {
   "codemirror_mode": {
    "name": "ipython",
    "version": 3
   },
   "file_extension": ".py",
   "mimetype": "text/x-python",
   "name": "python",
   "nbconvert_exporter": "python",
   "pygments_lexer": "ipython3",
   "version": "3.13.1"
  }
 },
 "nbformat": 4,
 "nbformat_minor": 5
}
